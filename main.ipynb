{
 "cells": [
  {
   "cell_type": "code",
   "execution_count": 1,
   "metadata": {},
   "outputs": [],
   "source": [
    "import plotly.graph_objects as go\n",
    "from dataTable import *\n",
    "from weaponData import *\n",
    "\n",
    "settings = et.parse(\"settings.xml\").getroot()\n",
    "generalSettings = settings.find(\"general\")\n",
    "graphSettings = settings.find(\"graphSettings\")\n",
    "health = int(generalSettings.get(\"health\"))\n",
    "interpolation = generalSettings.get(\"interpolation\")\n",
    "def plotWeapon(weaponToPlot):\n",
    "    xAxis = graphSettings.get(\"xAxis\")\n",
    "    yAxis = graphSettings.get(\"yAxis\")\n",
    "    hoverFields = graphSettings.get(\"hoverFields\").split(',')\n",
    "    global fig\n",
    "    id = 0\n",
    "    try:\n",
    "        id = int(weaponToPlot)\n",
    "    except:\n",
    "        # 把weaponToPlot从武器数据转换到ID\n",
    "        id = getIDByName(weaponToPlot)\n",
    "    weapon = WeaponData(id)\n",
    "    killData = weapon.getKillData(health)\n",
    "    x=killData[xAxis].tolist()\n",
    "    y=killData[yAxis].tolist()\n",
    "    hoverText = []\n",
    "    # 遍历X轴的所有数据\n",
    "    for i in x:\n",
    "        text = ''\n",
    "        # 找到浮动窗口中对应当前X的数值\n",
    "        for j in hoverFields:\n",
    "            text += j + ': ' + str(killData[killData[xAxis] == i][j].iloc[0]) + '<br>'\n",
    "        hoverText.append(text)\n",
    "    fig.add_trace(go.Scatter(x=x, y=y, line_shape = interpolation, name = weapon.name + \": {}\".format(str(weapon.id)),\n",
    "                             hovertemplate = \n",
    "                                 '<br><b>' + yAxis + ': %{y}</b><br>' + \n",
    "                                 '<b>' + xAxis + ': %{x}</b><br>' +\n",
    "                                 '%{text}', \n",
    "                                 text = hoverText,\n",
    "                             ))\n",
    "    fig.update_layout(hovermode='x unified', xaxis_title=xAxis, yaxis_title=yAxis, width=1000, height=600,)"
   ]
  },
  {
   "cell_type": "markdown",
   "metadata": {},
   "source": [
    "# 注意事项：\n",
    "如果你对任何此文件之外的文件进行了修改（代码、数据、settings.xml设置文件等），记得在运行之前点Restart重启kernel，否则数据不会更新。"
   ]
  },
  {
   "cell_type": "code",
   "execution_count": null,
   "metadata": {},
   "outputs": [
    {
     "data": {
      "application/vnd.jupyter.widget-view+json": {
       "model_id": "e6c307b0efad4f988b461759522ae228",
       "version_major": 2,
       "version_minor": 0
      },
      "text/plain": [
       "FigureWidget({\n",
       "    'data': [{'hovertemplate': '<br><b>TTK: %{y}</b><br><b>distance: %{x}</b><br>%{text}',\n",
       "              'line': {'shape': 'vh'},\n",
       "              'name': 'M4: 0',\n",
       "              'text': [STK: 4.0<br>damage: 30.0 (30.0 * 1)<br>fireInterval:\n",
       "                       0.08<br>fireRate: 750.0<br>, STK: 4.0<br>damage: 30.0 (30.0\n",
       "                       * 1)<br>fireInterval: 0.08<br>fireRate: 750.0<br>, STK:\n",
       "                       4.0<br>damage: 25.0 (25.0 * 1)<br>fireInterval:\n",
       "                       0.08<br>fireRate: 750.0<br>, STK: 5.0<br>damage: 20.0 (20.0\n",
       "                       * 1)<br>fireInterval: 0.08<br>fireRate: 750.0<br>],\n",
       "              'type': 'scatter',\n",
       "              'uid': '2c5b8c52-d868-4e20-9c8f-b1e55b40d83e',\n",
       "              'x': [0.0, 10.0, 25.0, 60.0],\n",
       "              'y': [0.24, 0.24, 0.24, 0.32]},\n",
       "             {'hovertemplate': '<br><b>TTK: %{y}</b><br><b>distance: %{x}</b><br>%{text}',\n",
       "              'line': {'shape': 'vh'},\n",
       "              'name': 'AK47: 1',\n",
       "              'text': [STK: 3.0<br>damage: 45.0 (45.0 * 1)<br>fireInterval:\n",
       "                       0.11<br>fireRate: 545.0<br>, STK: 3.0<br>damage: 45.0 (45.0\n",
       "                       * 1)<br>fireInterval: 0.11<br>fireRate: 545.0<br>, STK:\n",
       "                       3.0<br>damage: 35.0 (35.0 * 1)<br>fireInterval:\n",
       "                       0.11<br>fireRate: 545.0<br>, STK: 4.0<br>damage: 30.0 (30.0\n",
       "                       * 1)<br>fireInterval: 0.11<br>fireRate: 545.0<br>],\n",
       "              'type': 'scatter',\n",
       "              'uid': '16800b15-a699-4005-9677-3bed502c4374',\n",
       "              'x': [0.0, 15.0, 25.0, 60.0],\n",
       "              'y': [0.22, 0.22, 0.22, 0.33]},\n",
       "             {'hovertemplate': '<br><b>TTK: %{y}</b><br><b>distance: %{x}</b><br>%{text}',\n",
       "              'line': {'shape': 'vh'},\n",
       "              'name': 'S1897: 2',\n",
       "              'text': [STK: 1.0<br>damage: 120.0 (15.0 * 8)<br>fireInterval:\n",
       "                       0.25<br>fireRate: 240.0<br>, STK: 1.0<br>damage: 120.0 (15.0\n",
       "                       * 8)<br>fireInterval: 0.25<br>fireRate: 240.0<br>, STK:\n",
       "                       2.0<br>damage: 64.0 (8.0 * 8)<br>fireInterval:\n",
       "                       0.25<br>fireRate: 240.0<br>, STK: 3.0<br>damage: 40.0 (5.0 *\n",
       "                       8)<br>fireInterval: 0.25<br>fireRate: 240.0<br>],\n",
       "              'type': 'scatter',\n",
       "              'uid': '0c8526b8-5f03-4cc3-903b-1a007f898c77',\n",
       "              'x': [0.0, 7.0, 20.0, 60.0],\n",
       "              'y': [0.0, 0.0, 0.25, 0.5]},\n",
       "             {'hovertemplate': '<br><b>TTK: %{y}</b><br><b>distance: %{x}</b><br>%{text}',\n",
       "              'line': {'shape': 'vh'},\n",
       "              'name': 'MP5: 3',\n",
       "              'text': [STK: 5.0<br>damage: 20.0 (20.0 * 1)<br>fireInterval:\n",
       "                       0.05<br>fireRate: 1200.0<br>, STK: 5.0<br>damage: 20.0 (20.0\n",
       "                       * 1)<br>fireInterval: 0.05<br>fireRate: 1200.0<br>, STK:\n",
       "                       7.0<br>damage: 15.0 (15.0 * 1)<br>fireInterval:\n",
       "                       0.05<br>fireRate: 1200.0<br>, STK: 10.0<br>damage: 10.0\n",
       "                       (10.0 * 1)<br>fireInterval: 0.05<br>fireRate: 1200.0<br>],\n",
       "              'type': 'scatter',\n",
       "              'uid': 'd8fb1234-ee80-45bf-8382-df0c70b79e01',\n",
       "              'x': [0.0, 10.0, 25.0, 60.0],\n",
       "              'y': [0.2, 0.2, 0.3, 0.45]}],\n",
       "    'layout': {'height': 600,\n",
       "               'hovermode': 'x unified',\n",
       "               'template': '...',\n",
       "               'width': 1000,\n",
       "               'xaxis': {'title': {'text': 'distance'}},\n",
       "               'yaxis': {'title': {'text': 'TTK'}}}\n",
       "})"
      ]
     },
     "execution_count": 2,
     "metadata": {},
     "output_type": "execute_result"
    }
   ],
   "source": [
    "fig = go.FigureWidget()\n",
    "# 在此声明要绘制哪些武器\n",
    "plotWeapon('M4')\n",
    "plotWeapon('AK47')\n",
    "plotWeapon('S1897')\n",
    "plotWeapon('MP5')\n",
    "plotWeapon('Baret')\n",
    "fig"
   ]
  }
 ],
 "metadata": {
  "kernelspec": {
   "display_name": "Python 3",
   "language": "python",
   "name": "python3"
  },
  "language_info": {
   "codemirror_mode": {
    "name": "ipython",
    "version": 3
   },
   "file_extension": ".py",
   "mimetype": "text/x-python",
   "name": "python",
   "nbconvert_exporter": "python",
   "pygments_lexer": "ipython3",
   "version": "3.10.9"
  }
 },
 "nbformat": 4,
 "nbformat_minor": 2
}
