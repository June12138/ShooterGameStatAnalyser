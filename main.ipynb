{
 "cells": [
  {
   "cell_type": "code",
   "execution_count": 1,
   "metadata": {},
   "outputs": [],
   "source": [
    "import plotly.graph_objects as go\n",
    "from dataTable import *\n",
    "from weaponData import *\n",
    "\n",
    "generalSettings = et.parse(\"settings.xml\").getroot().find(\"general\")\n",
    "health = int(generalSettings.get(\"health\"))\n",
    "interpolation = generalSettings.get(\"interpolation\")\n",
    "def plotWeapon(weaponToPlot, xAxis = 'distance', yAxis = 'TTK', hoverFields = ['STK', 'damage', 'fireInterval', 'fireRate']):\n",
    "    global fig\n",
    "    id = 0\n",
    "    try:\n",
    "        id = int(weaponToPlot)\n",
    "    except:\n",
    "        # 把weaponToPlot从武器数据转换到ID\n",
    "        id = getIDByName(weaponToPlot)\n",
    "    weapon = WeaponData(id)\n",
    "    killData = weapon.getKillData(health)\n",
    "    x=killData[xAxis].tolist()\n",
    "    y=killData[yAxis].tolist()\n",
    "    hoverText = []\n",
    "    # 遍历X轴的所有数据\n",
    "    for i in x:\n",
    "        text = ''\n",
    "        # 找到浮动窗口中对应当前X的数值\n",
    "        for j in hoverFields:\n",
    "            text += j + ': ' + str(killData[killData[xAxis] == i][j].iloc[0]) + '<br>'\n",
    "        hoverText.append(text)\n",
    "    fig.add_trace(go.Scatter(x=x, y=y, line_shape = interpolation, name = weapon.name + \": {}\".format(str(weapon.id)),\n",
    "                             hovertemplate = \n",
    "                                 '<br><b>' + yAxis + ': %{y}</b><br>' + \n",
    "                                 '<b>' + xAxis + ': %{x}</b><br>' +\n",
    "                                 '%{text}', \n",
    "                                 text = hoverText,\n",
    "                             ))\n",
    "    fig.update_layout(hovermode='x unified', xaxis_title=xAxis, yaxis_title=yAxis, width=1000, height=600,)"
   ]
  },
  {
   "cell_type": "code",
   "execution_count": 2,
   "metadata": {},
   "outputs": [
    {
     "data": {
      "application/vnd.jupyter.widget-view+json": {
       "model_id": "bdfb5c3f59714e809dfa4cad9e128c24",
       "version_major": 2,
       "version_minor": 0
      },
      "text/plain": [
       "FigureWidget({\n",
       "    'data': [{'hovertemplate': '<br><b>TTK: %{y}</b><br><b>distance: %{x}</b><br>%{text}',\n",
       "              'line': {'shape': 'vh'},\n",
       "              'name': 'M4: 0',\n",
       "              'text': [STK: 4.0<br>damage: 30.0 (30.0 * 1)<br>fireInterval:\n",
       "                       0.08<br>fireRate: 750.0<br>, STK: 4.0<br>damage: 30.0 (30.0\n",
       "                       * 1)<br>fireInterval: 0.08<br>fireRate: 750.0<br>, STK:\n",
       "                       5.0<br>damage: 20.0 (20.0 * 1)<br>fireInterval:\n",
       "                       0.08<br>fireRate: 750.0<br>, STK: 7.0<br>damage: 16.0 (16.0\n",
       "                       * 1)<br>fireInterval: 0.08<br>fireRate: 750.0<br>],\n",
       "              'type': 'scatter',\n",
       "              'uid': '61e31b89-038d-4416-94a2-41661c800202',\n",
       "              'x': [0.0, 10.0, 25.0, 50.0],\n",
       "              'y': [0.24, 0.24, 0.32, 0.48]}],\n",
       "    'layout': {'height': 600,\n",
       "               'hovermode': 'x unified',\n",
       "               'template': '...',\n",
       "               'width': 1000,\n",
       "               'xaxis': {'title': {'text': 'distance'}},\n",
       "               'yaxis': {'title': {'text': 'TTK'}}}\n",
       "})"
      ]
     },
     "execution_count": 2,
     "metadata": {},
     "output_type": "execute_result"
    }
   ],
   "source": [
    "fig = go.FigureWidget()\n",
    "# 在此声明要绘制哪些武器\n",
    "plotWeapon('M4')\n",
    "fig"
   ]
  }
 ],
 "metadata": {
  "kernelspec": {
   "display_name": "Python 3",
   "language": "python",
   "name": "python3"
  },
  "language_info": {
   "codemirror_mode": {
    "name": "ipython",
    "version": 3
   },
   "file_extension": ".py",
   "mimetype": "text/x-python",
   "name": "python",
   "nbconvert_exporter": "python",
   "pygments_lexer": "ipython3",
   "version": "3.10.9"
  }
 },
 "nbformat": 4,
 "nbformat_minor": 2
}
